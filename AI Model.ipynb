{
 "cells": [
  {
   "cell_type": "code",
   "execution_count": null,
   "id": "4f134fe7",
   "metadata": {},
   "outputs": [],
   "source": [
    "import urllib.request\n",
    "#AI model\n",
    "import urllib.request\n",
    "request_url = urllib.request.urlopen(\"\"https://j26fhw0pq2.execute-api.ap-south-1.amazonaws.com/test/unlock\"\")\n",
    "\n",
    "print( request_url.read())\n",
    "b'{\"statusCode\": 200, \"body\": \"\\\\\"User Unlocked!\\\\\"\"}'\n",
    "#AI model\n",
    "import urllib.request\n",
    "request_url = urllib.request.urlopen(\"\"https://j26fhw0pq2.execute-api.ap-south-1.amazonaws.com/test/lock)\n",
    "\n",
    "print( request_url.read())\n",
    "b'{\"statusCode\": 200, \"body\": \"\\\\\"User Locked!\\\\\"\"}'\n",
    "#AI model\n",
    "import urllib.request\n",
    "request_url = urllib.request.urlopen(\"https://j26fhw0pq2.execute-api.ap-south-1.amazonaws.com/test/docker\")\n",
    "\n",
    "print( request_url.read())"
   ]
  }
 ],
 "metadata": {
  "kernelspec": {
   "display_name": "Python 3 (ipykernel)",
   "language": "python",
   "name": "python3"
  },
  "language_info": {
   "codemirror_mode": {
    "name": "ipython",
    "version": 3
   },
   "file_extension": ".py",
   "mimetype": "text/x-python",
   "name": "python",
   "nbconvert_exporter": "python",
   "pygments_lexer": "ipython3",
   "version": "3.10.9"
  }
 },
 "nbformat": 4,
 "nbformat_minor": 5
}
